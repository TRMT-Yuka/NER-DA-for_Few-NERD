{
 "cells": [
  {
   "cell_type": "markdown",
   "id": "4e2496e1",
   "metadata": {},
   "source": [
    "# SMLデータを新たに作成"
   ]
  },
  {
   "cell_type": "markdown",
   "id": "fcc53c5a",
   "metadata": {},
   "source": [
    "## 各タグのサイズに配慮したSML"
   ]
  },
  {
   "cell_type": "code",
   "execution_count": 35,
   "id": "904096ca",
   "metadata": {},
   "outputs": [],
   "source": [
    "# import random\n",
    "# import json\n",
    "# import DA4ner"
   ]
  },
  {
   "cell_type": "markdown",
   "id": "6bbfadbb",
   "metadata": {},
   "source": [
    "## BIおよびO"
   ]
  },
  {
   "cell_type": "code",
   "execution_count": 11,
   "id": "b958014b",
   "metadata": {},
   "outputs": [],
   "source": [
    "# # data/TreePos_BI/train.jsonとは\n",
    "# # 'tokens'(各単語), 'tags'（<POS-tag>_<NER-tag>）をキーに持つ131719の辞書が格納されたリスト\n",
    "# train = []\n",
    "# with open(\"data/TreePos_BI/train.json\",\"r\") as f:\n",
    "#     for line in f:\n",
    "#         train.append(json.loads(line))\n",
    "\n",
    "# # キー'tags'に含まれる<POS-tag>を新しいキーtree_posに，<NER-tag>を新しいキーner_posに格納\n",
    "# for d in train:\n",
    "#     d[\"tree_pos\"] = [d[\"tags\"][i].split(\"_\")[0] for i in range(len(d[\"tags\"]))]\n",
    "#     d[\"ner_pos\"] = [d[\"tags\"][i].split(\"_\")[1] for i in range(len(d[\"tags\"]))]\n",
    "\n",
    "# # trainの中でner_posのすべてが\"O\"タグである辞書を削除した，train_includeBIを作成\n",
    "# train_includeBI = [d for d in train if list(set(d[\"ner_pos\"])) != [\"O\"]]#113983"
   ]
  },
  {
   "cell_type": "code",
   "execution_count": 12,
   "id": "c4660aa8",
   "metadata": {},
   "outputs": [],
   "source": [
    "# # ラベル一覧を定義\n",
    "# labels = [\"art-broadcastprogram\",\"art-film\",\"art-music\",\"art-other\",\"art-painting\",\"art-writtenart\",\"building-airport\",\"building-hospital\",\"building-hotel\",\"building-library\",\"building-other\",\"building-restaurant\",\"building-sportsfacility\",\"building-theater\",\"event-attack/battle/war/militaryconflict\",\"event-disaster\",\"event-election\",\"event-other\",\"event-protest\",\"event-sportsevent\",\"location-GPE\",\"location-bodiesofwater\",\"location-island\",\"location-mountain\",\"location-other\",\"location-park\",\"location-road/railway/highway/transit\",\"organization-company\",\"organization-education\",\"organization-government/governmentagency\",\"organization-media/newspaper\",\"organization-other\",\"organization-politicalparty\",\"organization-religion\",\"organization-showorganization\",\"organization-sportsleague\",\"organization-sportsteam\",\"other-astronomything\",\"other-award\",\"other-biologything\",\"other-chemicalthing\",\"other-currency\",\"other-disease\",\"other-educationaldegree\",\"other-god\",\"other-language\",\"other-law\",\"other-livingthing\",\"other-medical\",\"person-actor\",\"person-artist/author\",\"person-athlete\",\"person-director\",\"person-other\",\"person-politician\",\"person-scholar\",\"person-soldier\",\"product-airplane\",\"product-car\",\"product-food\",\"product-game\",\"product-other\",\"product-ship\",\"product-software\",\"product-train\",\"product-weapon\"]"
   ]
  },
  {
   "cell_type": "code",
   "execution_count": 13,
   "id": "a17c5e2e",
   "metadata": {},
   "outputs": [],
   "source": [
    "# # 66種のラベル位置に対応した多重リストlabeled_dataを作成\n",
    "# # 対応するラベル位置のリストには，該当のラベルを含むtrainの一文である辞書を格納\n",
    "# # 例えばlabeled_data[0]は，[d1,d2,d3...](dnは'tokens','tags','tree_pos','ner_pos'をキーに持つjson由来の辞書)\n",
    "# labeled_data = []\n",
    "# for label in labels:\n",
    "#     new_l = []\n",
    "#     for d in train_includeBI:\n",
    "#         if label in set(d[\"ner_pos\"]):\n",
    "#             new_l.append(d)\n",
    "#     labeled_data.append(new_l)"
   ]
  },
  {
   "cell_type": "code",
   "execution_count": 34,
   "id": "174dbd7a",
   "metadata": {},
   "outputs": [],
   "source": [
    "# # 各ラベルごとに166/3スケールとしたデータを作成\n",
    "# import random\n",
    "# labeled_data_elected = []#21548\n",
    "\n",
    "# # オリジナルデータをどれだけ縮小したいかをnで設定\n",
    "# # 各ラベルごとに一文のデータを格納した辞書をいくつ取ってくればよいかを確定\n",
    "# # 決められた個数だけ辞書をランダムに取得し，リストlabeled_data_electedに次々追加．\n",
    "\n",
    "# n = 3\n",
    "# for i in range(len(labeled_data)):\n",
    "#     choice_num = int(len(labeled_data[i])+n/166)\n",
    "#     print(choice_num,\"/\",len(labeled_data[i]),end = \"    \")\n",
    "#     choice_list = random.sample(labeled_data[i],choice_num)\n",
    "#     labeled_data_elected.extend(choice_list)\n",
    "    \n",
    "# print(len(labeled_data_elected))"
   ]
  },
  {
   "cell_type": "code",
   "execution_count": 8,
   "id": "96026e57",
   "metadata": {},
   "outputs": [],
   "source": [
    "# import random\n",
    "# import json\n",
    "\n",
    "# parm_exchange = 0.7\n",
    "# parm_generate_per_s = 10#オリジナルデータの何倍データを作るか（生成後データにはオリジナルデータも含む）"
   ]
  },
  {
   "cell_type": "code",
   "execution_count": 10,
   "id": "58bb20a7",
   "metadata": {},
   "outputs": [],
   "source": [
    "# DA4ner.Simple_TreePos(\"labeled_small_3-167th\",labeled_data_elected,\"BI\")"
   ]
  },
  {
   "cell_type": "code",
   "execution_count": null,
   "id": "3e4efac5",
   "metadata": {},
   "outputs": [],
   "source": [
    "# DA4ner.Simple_TreePos(\"labeled_small_3-167th\",labeled_data_elected,\"O\")"
   ]
  },
  {
   "cell_type": "code",
   "execution_count": null,
   "id": "3740e3bc",
   "metadata": {},
   "outputs": [],
   "source": [
    "# Simple_TreePosのコードは現在書き換わっているため上記は使用不可\n",
    "#  DA4ner.Simple_TreePos(\"labeled_small_\"+str(n)+\"-167th\",labeled_data_elected,BI_O_ALL,ver,parm_exchange,parm_generate_per_s)"
   ]
  },
  {
   "cell_type": "markdown",
   "id": "f0bff222",
   "metadata": {},
   "source": [
    "## f_smallを作成"
   ]
  },
  {
   "cell_type": "code",
   "execution_count": 4,
   "id": "33238d74",
   "metadata": {},
   "outputs": [],
   "source": [
    "# with open(\"data/f_small/train_3-167th.json\", 'w') as f:\n",
    "#     for d in labeled_data_elected:\n",
    "#         new_d = {}\n",
    "#         new_d[\"tokens\"] = d[\"tokens\"]\n",
    "#         new_d[\"tags\"] = d[\"ner_pos\"]\n",
    "#         f.write(json.dumps(new_d))\n",
    "#         f.write(\"\\n\")"
   ]
  },
  {
   "cell_type": "markdown",
   "id": "b1863cd2",
   "metadata": {},
   "source": [
    "## BI，O，All用のコード　10回ずつ稼働し平均算出"
   ]
  },
  {
   "cell_type": "code",
   "execution_count": 2,
   "id": "e672ed0a",
   "metadata": {},
   "outputs": [],
   "source": [
    "import random\n",
    "import json\n",
    "import DA4ner"
   ]
  },
  {
   "cell_type": "code",
   "execution_count": 24,
   "id": "cafdee76",
   "metadata": {},
   "outputs": [],
   "source": [
    "#trainデータの読み込み・整形\n",
    "train = []#131719\n",
    "with open(\"data/TreePos_BI/train.json\",\"r\") as f:\n",
    "    for line in f:\n",
    "        train.append(json.loads(line))\n",
    "for d in train:\n",
    "    d[\"tree_pos\"] = [d[\"tags\"][i].split(\"_\")[0] for i in range(len(d[\"tags\"]))]\n",
    "    d[\"ner_pos\"] = [d[\"tags\"][i].split(\"_\")[1] for i in range(len(d[\"tags\"]))]\n",
    "\n",
    "    \n",
    "labels = [\"art-broadcastprogram\",\"art-film\",\"art-music\",\"art-other\",\"art-painting\",\"art-writtenart\",\"building-airport\",\"building-hospital\",\"building-hotel\",\"building-library\",\"building-other\",\"building-restaurant\",\"building-sportsfacility\",\"building-theater\",\"event-attack/battle/war/militaryconflict\",\"event-disaster\",\"event-election\",\"event-other\",\"event-protest\",\"event-sportsevent\",\"location-GPE\",\"location-bodiesofwater\",\"location-island\",\"location-mountain\",\"location-other\",\"location-park\",\"location-road/railway/highway/transit\",\"organization-company\",\"organization-education\",\"organization-government/governmentagency\",\"organization-media/newspaper\",\"organization-other\",\"organization-politicalparty\",\"organization-religion\",\"organization-showorganization\",\"organization-sportsleague\",\"organization-sportsteam\",\"other-astronomything\",\"other-award\",\"other-biologything\",\"other-chemicalthing\",\"other-currency\",\"other-disease\",\"other-educationaldegree\",\"other-god\",\"other-language\",\"other-law\",\"other-livingthing\",\"other-medical\",\"person-actor\",\"person-artist/author\",\"person-athlete\",\"person-director\",\"person-other\",\"person-politician\",\"person-scholar\",\"person-soldier\",\"product-airplane\",\"product-car\",\"product-food\",\"product-game\",\"product-other\",\"product-ship\",\"product-software\",\"product-train\",\"product-weapon\",\"O\"]\n",
    "# 66種のラベルごとに対応するリスト ラベルを含むtrainの各要素を含むリストが入っている値\n",
    "labeled_data = []\n",
    "for label in labels:\n",
    "    new_l = []\n",
    "    for d in train:\n",
    "        if label == \"O\":\n",
    "            if {\"O\"} == set(d[\"ner_pos\"]):\n",
    "                new_l.append(d)\n",
    "        else:\n",
    "            if label in set(d[\"ner_pos\"]):\n",
    "                new_l.append(d)\n",
    "    labeled_data.append(new_l)#listに保存"
   ]
  },
  {
   "cell_type": "code",
   "execution_count": null,
   "id": "caeb7696",
   "metadata": {},
   "outputs": [],
   "source": [
    "parm_exchange = 0.7\n",
    "parm_generate_per_s = 50#オリジナルデータの何倍データを作るか（生成後データにはオリジナルデータも含む）"
   ]
  },
  {
   "cell_type": "code",
   "execution_count": 15,
   "id": "2c905942",
   "metadata": {
    "scrolled": true
   },
   "outputs": [
    {
     "name": "stdout",
     "output_type": "stream",
     "text": [
      "27 / 1538    38 / 2111    45 / 2503    26 / 1492    3 / 167    44 / 2472    17 / 957    16 / 891    13 / 771    16 / 909    117 / 6474    9 / 544    20 / 1160    23 / 1283    54 / 2988    11 / 614    9 / 503    46 / 2574    8 / 447    73 / 4043    746 / 41319    53 / 2973    28 / 1599    27 / 1501    94 / 5209    21 / 1163    64 / 3591    164 / 9087    94 / 5247    71 / 3947    51 / 2843    192 / 10671    39 / 2203    30 / 1697    31 / 1719    41 / 2319    105 / 5860    21 / 1207    43 / 2385    44 / 2471    30 / 1673    27 / 1518    31 / 1716    15 / 844    15 / 873    32 / 1777    23 / 1303    26 / 1456    15 / 854    50 / 2781    133 / 7370    111 / 6182    31 / 1724    348 / 19291    119 / 6599    35 / 1975    33 / 1857    30 / 1692    24 / 1347    14 / 780    17 / 972    61 / 3385    18 / 1028    27 / 1514    13 / 725    19 / 1081    320 / 17736    4191\n",
      "\n",
      "【★】ver: 0 - BI\n",
      "4190 / 4191\n",
      "【★】ver: 0 - O\n",
      "4190 / 4191\n",
      "【★】ver: 0 - ALL\n",
      "4190 / 419127 / 1538    38 / 2111    45 / 2503    26 / 1492    3 / 167    44 / 2472    17 / 957    16 / 891    13 / 771    16 / 909    117 / 6474    9 / 544    20 / 1160    23 / 1283    54 / 2988    11 / 614    9 / 503    46 / 2574    8 / 447    73 / 4043    746 / 41319    53 / 2973    28 / 1599    27 / 1501    94 / 5209    21 / 1163    64 / 3591    164 / 9087    94 / 5247    71 / 3947    51 / 2843    192 / 10671    39 / 2203    30 / 1697    31 / 1719    41 / 2319    105 / 5860    21 / 1207    43 / 2385    44 / 2471    30 / 1673    27 / 1518    31 / 1716    15 / 844    15 / 873    32 / 1777    23 / 1303    26 / 1456    15 / 854    50 / 2781    133 / 7370    111 / 6182    31 / 1724    348 / 19291    119 / 6599    35 / 1975    33 / 1857    30 / 1692    24 / 1347    14 / 780    17 / 972    61 / 3385    18 / 1028    27 / 1514    13 / 725    19 / 1081    320 / 17736    4191\n",
      "\n",
      "【★】ver: 1 - BI\n",
      "4190 / 4191\n",
      "【★】ver: 1 - O\n",
      "4190 / 4191\n",
      "【★】ver: 1 - ALL\n",
      "4190 / 419127 / 1538    38 / 2111    45 / 2503    26 / 1492    3 / 167    44 / 2472    17 / 957    16 / 891    13 / 771    16 / 909    117 / 6474    9 / 544    20 / 1160    23 / 1283    54 / 2988    11 / 614    9 / 503    46 / 2574    8 / 447    73 / 4043    746 / 41319    53 / 2973    28 / 1599    27 / 1501    94 / 5209    21 / 1163    64 / 3591    164 / 9087    94 / 5247    71 / 3947    51 / 2843    192 / 10671    39 / 2203    30 / 1697    31 / 1719    41 / 2319    105 / 5860    21 / 1207    43 / 2385    44 / 2471    30 / 1673    27 / 1518    31 / 1716    15 / 844    15 / 873    32 / 1777    23 / 1303    26 / 1456    15 / 854    50 / 2781    133 / 7370    111 / 6182    31 / 1724    348 / 19291    119 / 6599    35 / 1975    33 / 1857    30 / 1692    24 / 1347    14 / 780    17 / 972    61 / 3385    18 / 1028    27 / 1514    13 / 725    19 / 1081    320 / 17736    4191\n",
      "\n",
      "【★】ver: 2 - BI\n",
      "4190 / 4191\n",
      "【★】ver: 2 - O\n",
      "4190 / 4191\n",
      "【★】ver: 2 - ALL\n",
      "4190 / 419127 / 1538    38 / 2111    45 / 2503    26 / 1492    3 / 167    44 / 2472    17 / 957    16 / 891    13 / 771    16 / 909    117 / 6474    9 / 544    20 / 1160    23 / 1283    54 / 2988    11 / 614    9 / 503    46 / 2574    8 / 447    73 / 4043    746 / 41319    53 / 2973    28 / 1599    27 / 1501    94 / 5209    21 / 1163    64 / 3591    164 / 9087    94 / 5247    71 / 3947    51 / 2843    192 / 10671    39 / 2203    30 / 1697    31 / 1719    41 / 2319    105 / 5860    21 / 1207    43 / 2385    44 / 2471    30 / 1673    27 / 1518    31 / 1716    15 / 844    15 / 873    32 / 1777    23 / 1303    26 / 1456    15 / 854    50 / 2781    133 / 7370    111 / 6182    31 / 1724    348 / 19291    119 / 6599    35 / 1975    33 / 1857    30 / 1692    24 / 1347    14 / 780    17 / 972    61 / 3385    18 / 1028    27 / 1514    13 / 725    19 / 1081    320 / 17736    4191\n",
      "\n",
      "【★】ver: 3 - BI\n",
      "4190 / 4191\n",
      "【★】ver: 3 - O\n",
      "4190 / 4191\n",
      "【★】ver: 3 - ALL\n",
      "4190 / 419127 / 1538    38 / 2111    45 / 2503    26 / 1492    3 / 167    44 / 2472    17 / 957    16 / 891    13 / 771    16 / 909    117 / 6474    9 / 544    20 / 1160    23 / 1283    54 / 2988    11 / 614    9 / 503    46 / 2574    8 / 447    73 / 4043    746 / 41319    53 / 2973    28 / 1599    27 / 1501    94 / 5209    21 / 1163    64 / 3591    164 / 9087    94 / 5247    71 / 3947    51 / 2843    192 / 10671    39 / 2203    30 / 1697    31 / 1719    41 / 2319    105 / 5860    21 / 1207    43 / 2385    44 / 2471    30 / 1673    27 / 1518    31 / 1716    15 / 844    15 / 873    32 / 1777    23 / 1303    26 / 1456    15 / 854    50 / 2781    133 / 7370    111 / 6182    31 / 1724    348 / 19291    119 / 6599    35 / 1975    33 / 1857    30 / 1692    24 / 1347    14 / 780    17 / 972    61 / 3385    18 / 1028    27 / 1514    13 / 725    19 / 1081    320 / 17736    4191\n",
      "\n",
      "【★】ver: 4 - BI\n",
      "4190 / 4191\n",
      "【★】ver: 4 - O\n",
      "4190 / 4191\n",
      "【★】ver: 4 - ALL\n",
      "4190 / 419127 / 1538    38 / 2111    45 / 2503    26 / 1492    3 / 167    44 / 2472    17 / 957    16 / 891    13 / 771    16 / 909    117 / 6474    9 / 544    20 / 1160    23 / 1283    54 / 2988    11 / 614    9 / 503    46 / 2574    8 / 447    73 / 4043    746 / 41319    53 / 2973    28 / 1599    27 / 1501    94 / 5209    21 / 1163    64 / 3591    164 / 9087    94 / 5247    71 / 3947    51 / 2843    192 / 10671    39 / 2203    30 / 1697    31 / 1719    41 / 2319    105 / 5860    21 / 1207    43 / 2385    44 / 2471    30 / 1673    27 / 1518    31 / 1716    15 / 844    15 / 873    32 / 1777    23 / 1303    26 / 1456    15 / 854    50 / 2781    133 / 7370    111 / 6182    31 / 1724    348 / 19291    119 / 6599    35 / 1975    33 / 1857    30 / 1692    24 / 1347    14 / 780    17 / 972    61 / 3385    18 / 1028    27 / 1514    13 / 725    19 / 1081    320 / 17736    4191\n",
      "\n",
      "【★】ver: 5 - BI\n",
      "4190 / 4191\n",
      "【★】ver: 5 - O\n",
      "4190 / 4191\n",
      "【★】ver: 5 - ALL\n",
      "4190 / 419127 / 1538    38 / 2111    45 / 2503    26 / 1492    3 / 167    44 / 2472    17 / 957    16 / 891    13 / 771    16 / 909    117 / 6474    9 / 544    20 / 1160    23 / 1283    54 / 2988    11 / 614    9 / 503    46 / 2574    8 / 447    73 / 4043    746 / 41319    53 / 2973    28 / 1599    27 / 1501    94 / 5209    21 / 1163    64 / 3591    164 / 9087    94 / 5247    71 / 3947    51 / 2843    192 / 10671    39 / 2203    30 / 1697    31 / 1719    41 / 2319    105 / 5860    21 / 1207    43 / 2385    44 / 2471    30 / 1673    27 / 1518    31 / 1716    15 / 844    15 / 873    32 / 1777    23 / 1303    26 / 1456    15 / 854    50 / 2781    133 / 7370    111 / 6182    31 / 1724    348 / 19291    119 / 6599    35 / 1975    33 / 1857    30 / 1692    24 / 1347    14 / 780    17 / 972    61 / 3385    18 / 1028    27 / 1514    13 / 725    19 / 1081    320 / 17736    4191\n",
      "\n",
      "【★】ver: 6 - BI\n",
      "4190 / 4191\n",
      "【★】ver: 6 - O\n",
      "4190 / 4191\n",
      "【★】ver: 6 - ALL\n",
      "4190 / 419127 / 1538    38 / 2111    45 / 2503    26 / 1492    3 / 167    44 / 2472    17 / 957    16 / 891    13 / 771    16 / 909    117 / 6474    9 / 544    20 / 1160    23 / 1283    54 / 2988    11 / 614    9 / 503    46 / 2574    8 / 447    73 / 4043    746 / 41319    53 / 2973    28 / 1599    27 / 1501    94 / 5209    21 / 1163    64 / 3591    164 / 9087    94 / 5247    71 / 3947    51 / 2843    192 / 10671    39 / 2203    30 / 1697    31 / 1719    41 / 2319    105 / 5860    21 / 1207    43 / 2385    44 / 2471    30 / 1673    27 / 1518    31 / 1716    15 / 844    15 / 873    32 / 1777    23 / 1303    26 / 1456    15 / 854    50 / 2781    133 / 7370    111 / 6182    31 / 1724    348 / 19291    119 / 6599    35 / 1975    33 / 1857    30 / 1692    24 / 1347    14 / 780    17 / 972    61 / 3385    18 / 1028    27 / 1514    13 / 725    19 / 1081    320 / 17736    4191\n",
      "\n",
      "【★】ver: 7 - BI\n",
      "4190 / 4191\n",
      "【★】ver: 7 - O\n",
      "4190 / 4191\n",
      "【★】ver: 7 - ALL\n",
      "4190 / 419127 / 1538    38 / 2111    45 / 2503    26 / 1492    3 / 167    44 / 2472    17 / 957    16 / 891    13 / 771    16 / 909    117 / 6474    9 / 544    20 / 1160    23 / 1283    54 / 2988    11 / 614    9 / 503    46 / 2574    8 / 447    73 / 4043    746 / 41319    53 / 2973    28 / 1599    27 / 1501    94 / 5209    21 / 1163    64 / 3591    164 / 9087    94 / 5247    71 / 3947    51 / 2843    192 / 10671    39 / 2203    30 / 1697    31 / 1719    41 / 2319    105 / 5860    21 / 1207    43 / 2385    44 / 2471    30 / 1673    27 / 1518    31 / 1716    15 / 844    15 / 873    32 / 1777    23 / 1303    26 / 1456    15 / 854    50 / 2781    133 / 7370    111 / 6182    31 / 1724    348 / 19291    119 / 6599    35 / 1975    33 / 1857    30 / 1692    24 / 1347    14 / 780    17 / 972    61 / 3385    18 / 1028    27 / 1514    13 / 725    19 / 1081    320 / 17736    4191\n",
      "\n",
      "【★】ver: 8 - BI\n",
      "4190 / 4191\n",
      "【★】ver: 8 - O\n",
      "4190 / 4191\n",
      "【★】ver: 8 - ALL\n",
      "4190 / 419127 / 1538    38 / 2111    45 / 2503    26 / 1492    3 / 167    44 / 2472    17 / 957    16 / 891    13 / 771    16 / 909    117 / 6474    9 / 544    20 / 1160    23 / 1283    54 / 2988    11 / 614    9 / 503    46 / 2574    8 / 447    73 / 4043    746 / 41319    53 / 2973    28 / 1599    27 / 1501    94 / 5209    21 / 1163    64 / 3591    164 / 9087    94 / 5247    71 / 3947    51 / 2843    192 / 10671    39 / 2203    30 / 1697    31 / 1719    41 / 2319    105 / 5860    21 / 1207    43 / 2385    44 / 2471    30 / 1673    27 / 1518    31 / 1716    15 / 844    15 / 873    32 / 1777    23 / 1303    26 / 1456    15 / 854    50 / 2781    133 / 7370    111 / 6182    31 / 1724    348 / 19291    119 / 6599    35 / 1975    33 / 1857    30 / 1692    24 / 1347    14 / 780    17 / 972    61 / 3385    18 / 1028    27 / 1514    13 / 725    19 / 1081    320 / 17736    4191\n",
      "\n",
      "【★】ver: 9 - BI\n",
      "4190 / 4191\n",
      "【★】ver: 9 - O\n",
      "4190 / 4191\n",
      "【★】ver: 9 - ALL\n",
      "4190 / 4191"
     ]
    }
   ],
   "source": [
    "# n = 3 # <= n/166 の部分．DEIMではn=3とした\n",
    "n = 3\n",
    "for ver in range(0,10):\n",
    "    labeled_data_elected = []#21548\n",
    "    for i in range(len(labeled_data)):\n",
    "        choice_num = int(len(labeled_data[i])*n/166)\n",
    "        print(choice_num,\"/\",len(labeled_data[i]),end = \"    \")\n",
    "        choice_list = random.sample(labeled_data[i],choice_num)\n",
    "        labeled_data_elected.extend(choice_list)\n",
    "    print(len(labeled_data_elected))\n",
    "\n",
    "    #f_smallを作成\n",
    "    with open(\"data/f_small/1to50_\"+str(n)+\"-167th_\"+str(ver)+\".json\", 'w') as f:\n",
    "        for d in labeled_data_elected:\n",
    "            new_d = {}\n",
    "            new_d[\"tokens\"] = d[\"tokens\"]\n",
    "            new_d[\"tags\"] = d[\"ner_pos\"]\n",
    "            f.write(json.dumps(new_d))\n",
    "            f.write(\"\\n\")\n",
    "\n",
    "    for BI_O_ALL in [\"BI\",\"O\",\"ALL\"]:\n",
    "        print()\n",
    "        print(\"【★】ver:\",ver,\"-\",BI_O_ALL)\n",
    "        DA.Simple_TreePos(\"1to50_\"+str(n)+\"-167th\",labeled_data_elected,BI_O_ALL,ver,parm_exchange,parm_generate_per_s)"
   ]
  },
  {
   "cell_type": "code",
   "execution_count": null,
   "id": "2ab8f39e",
   "metadata": {},
   "outputs": [],
   "source": []
  }
 ],
 "metadata": {
  "kernelspec": {
   "display_name": "Python 3",
   "language": "python",
   "name": "python3"
  },
  "language_info": {
   "codemirror_mode": {
    "name": "ipython",
    "version": 3
   },
   "file_extension": ".py",
   "mimetype": "text/x-python",
   "name": "python",
   "nbconvert_exporter": "python",
   "pygments_lexer": "ipython3",
   "version": "3.9.0"
  }
 },
 "nbformat": 4,
 "nbformat_minor": 5
}
