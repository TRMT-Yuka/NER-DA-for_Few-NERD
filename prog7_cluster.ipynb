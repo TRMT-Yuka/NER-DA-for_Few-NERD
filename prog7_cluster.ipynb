{
 "cells": [
  {
   "cell_type": "markdown",
   "id": "59ece254",
   "metadata": {},
   "source": [
    "## 23/9/22  \n",
    "データ数が多くてもうまくいかないケースと，データ数が少ないのにうまくいってるケースが存在  \n",
    "・クラスタ分析の実施\n",
    "\n",
    "## 23/9/24  \n",
    "・エラーの原因を取得  \n",
    "・https://github.com/scikit-learn/scikit-learn/issues/24238"
   ]
  },
  {
   "cell_type": "code",
   "execution_count": 4,
   "id": "f31758c6",
   "metadata": {},
   "outputs": [],
   "source": [
    "import pandas as pd\n",
    "import matplotlib.pyplot as plt\n",
    "from sklearn.cluster import KMeans\n",
    "from sklearn.preprocessing import StandardScaler\n",
    "from sklearn.metrics import silhouette_score\n",
    "import numpy as np"
   ]
  },
  {
   "cell_type": "code",
   "execution_count": 5,
   "id": "cb953f4d",
   "metadata": {},
   "outputs": [],
   "source": [
    "# 0922_f_small+TreePos+SubTree_agg_label.xlsxのf_smallのみcsvファイルに出力したファイル\n",
    "data = pd.read_csv('analysis/xlsx/extract.csv',index_col=0)"
   ]
  },
  {
   "cell_type": "code",
   "execution_count": 6,
   "id": "d4858db4",
   "metadata": {},
   "outputs": [
    {
     "data": {
      "text/html": [
       "<div>\n",
       "<style scoped>\n",
       "    .dataframe tbody tr th:only-of-type {\n",
       "        vertical-align: middle;\n",
       "    }\n",
       "\n",
       "    .dataframe tbody tr th {\n",
       "        vertical-align: top;\n",
       "    }\n",
       "\n",
       "    .dataframe thead th {\n",
       "        text-align: right;\n",
       "    }\n",
       "</style>\n",
       "<table border=\"1\" class=\"dataframe\">\n",
       "  <thead>\n",
       "    <tr style=\"text-align: right;\">\n",
       "      <th></th>\n",
       "      <th>F1</th>\n",
       "      <th>Recall</th>\n",
       "      <th>Precision</th>\n",
       "      <th>s_sum</th>\n",
       "      <th>t_sum</th>\n",
       "      <th>tt_tokens_num</th>\n",
       "      <th>only_train_tokens_num</th>\n",
       "      <th>only_test_tokens_num</th>\n",
       "      <th>tt/train_per</th>\n",
       "      <th>tt/test_per</th>\n",
       "    </tr>\n",
       "  </thead>\n",
       "  <tbody>\n",
       "    <tr>\n",
       "      <th>art-broadcastprogram</th>\n",
       "      <td>0.51</td>\n",
       "      <td>0.53</td>\n",
       "      <td>0.49</td>\n",
       "      <td>916.6</td>\n",
       "      <td>31730.7</td>\n",
       "      <td>1215.4</td>\n",
       "      <td>2842.9</td>\n",
       "      <td>2797.6</td>\n",
       "      <td>29.948501</td>\n",
       "      <td>30.286569</td>\n",
       "    </tr>\n",
       "    <tr>\n",
       "      <th>art-film</th>\n",
       "      <td>0.65</td>\n",
       "      <td>0.68</td>\n",
       "      <td>0.62</td>\n",
       "      <td>1487.3</td>\n",
       "      <td>52253.8</td>\n",
       "      <td>1551.0</td>\n",
       "      <td>4331.6</td>\n",
       "      <td>3066.0</td>\n",
       "      <td>26.365893</td>\n",
       "      <td>33.593242</td>\n",
       "    </tr>\n",
       "    <tr>\n",
       "      <th>art-music</th>\n",
       "      <td>0.70</td>\n",
       "      <td>0.70</td>\n",
       "      <td>0.71</td>\n",
       "      <td>1476.5</td>\n",
       "      <td>50707.5</td>\n",
       "      <td>1633.6</td>\n",
       "      <td>4046.7</td>\n",
       "      <td>3666.4</td>\n",
       "      <td>28.759044</td>\n",
       "      <td>30.822642</td>\n",
       "    </tr>\n",
       "    <tr>\n",
       "      <th>art-other</th>\n",
       "      <td>0.27</td>\n",
       "      <td>0.26</td>\n",
       "      <td>0.30</td>\n",
       "      <td>962.1</td>\n",
       "      <td>35777.2</td>\n",
       "      <td>1259.9</td>\n",
       "      <td>3123.8</td>\n",
       "      <td>2968.1</td>\n",
       "      <td>28.740562</td>\n",
       "      <td>29.798959</td>\n",
       "    </tr>\n",
       "    <tr>\n",
       "      <th>art-painting</th>\n",
       "      <td>0.06</td>\n",
       "      <td>0.06</td>\n",
       "      <td>0.08</td>\n",
       "      <td>118.9</td>\n",
       "      <td>4042.7</td>\n",
       "      <td>105.4</td>\n",
       "      <td>699.8</td>\n",
       "      <td>415.6</td>\n",
       "      <td>13.089916</td>\n",
       "      <td>20.230326</td>\n",
       "    </tr>\n",
       "    <tr>\n",
       "      <th>...</th>\n",
       "      <td>...</td>\n",
       "      <td>...</td>\n",
       "      <td>...</td>\n",
       "      <td>...</td>\n",
       "      <td>...</td>\n",
       "      <td>...</td>\n",
       "      <td>...</td>\n",
       "      <td>...</td>\n",
       "      <td>...</td>\n",
       "      <td>...</td>\n",
       "    </tr>\n",
       "    <tr>\n",
       "      <th>product-other</th>\n",
       "      <td>0.36</td>\n",
       "      <td>0.37</td>\n",
       "      <td>0.36</td>\n",
       "      <td>1556.5</td>\n",
       "      <td>51655.5</td>\n",
       "      <td>2169.2</td>\n",
       "      <td>3930.5</td>\n",
       "      <td>5688.8</td>\n",
       "      <td>35.562405</td>\n",
       "      <td>27.604989</td>\n",
       "    </tr>\n",
       "    <tr>\n",
       "      <th>product-ship</th>\n",
       "      <td>0.55</td>\n",
       "      <td>0.57</td>\n",
       "      <td>0.55</td>\n",
       "      <td>555.0</td>\n",
       "      <td>17979.2</td>\n",
       "      <td>765.6</td>\n",
       "      <td>1866.2</td>\n",
       "      <td>1928.4</td>\n",
       "      <td>29.090356</td>\n",
       "      <td>28.418708</td>\n",
       "    </tr>\n",
       "    <tr>\n",
       "      <th>product-software</th>\n",
       "      <td>0.54</td>\n",
       "      <td>0.51</td>\n",
       "      <td>0.56</td>\n",
       "      <td>621.8</td>\n",
       "      <td>18847.9</td>\n",
       "      <td>836.7</td>\n",
       "      <td>2297.7</td>\n",
       "      <td>2532.3</td>\n",
       "      <td>26.694104</td>\n",
       "      <td>24.835263</td>\n",
       "    </tr>\n",
       "    <tr>\n",
       "      <th>product-train</th>\n",
       "      <td>0.44</td>\n",
       "      <td>0.49</td>\n",
       "      <td>0.40</td>\n",
       "      <td>353.4</td>\n",
       "      <td>11775.1</td>\n",
       "      <td>491.6</td>\n",
       "      <td>1515.2</td>\n",
       "      <td>1323.4</td>\n",
       "      <td>24.496711</td>\n",
       "      <td>27.085399</td>\n",
       "    </tr>\n",
       "    <tr>\n",
       "      <th>product-weapon</th>\n",
       "      <td>0.48</td>\n",
       "      <td>0.46</td>\n",
       "      <td>0.50</td>\n",
       "      <td>466.3</td>\n",
       "      <td>15010.3</td>\n",
       "      <td>679.2</td>\n",
       "      <td>1815.5</td>\n",
       "      <td>2359.8</td>\n",
       "      <td>27.225719</td>\n",
       "      <td>22.349457</td>\n",
       "    </tr>\n",
       "  </tbody>\n",
       "</table>\n",
       "<p>66 rows × 10 columns</p>\n",
       "</div>"
      ],
      "text/plain": [
       "                        F1  Recall  Precision   s_sum    t_sum  tt_tokens_num  \\\n",
       "art-broadcastprogram  0.51    0.53       0.49   916.6  31730.7         1215.4   \n",
       "art-film              0.65    0.68       0.62  1487.3  52253.8         1551.0   \n",
       "art-music             0.70    0.70       0.71  1476.5  50707.5         1633.6   \n",
       "art-other             0.27    0.26       0.30   962.1  35777.2         1259.9   \n",
       "art-painting          0.06    0.06       0.08   118.9   4042.7          105.4   \n",
       "...                    ...     ...        ...     ...      ...            ...   \n",
       "product-other         0.36    0.37       0.36  1556.5  51655.5         2169.2   \n",
       "product-ship          0.55    0.57       0.55   555.0  17979.2          765.6   \n",
       "product-software      0.54    0.51       0.56   621.8  18847.9          836.7   \n",
       "product-train         0.44    0.49       0.40   353.4  11775.1          491.6   \n",
       "product-weapon        0.48    0.46       0.50   466.3  15010.3          679.2   \n",
       "\n",
       "                      only_train_tokens_num  only_test_tokens_num  \\\n",
       "art-broadcastprogram                 2842.9                2797.6   \n",
       "art-film                             4331.6                3066.0   \n",
       "art-music                            4046.7                3666.4   \n",
       "art-other                            3123.8                2968.1   \n",
       "art-painting                          699.8                 415.6   \n",
       "...                                     ...                   ...   \n",
       "product-other                        3930.5                5688.8   \n",
       "product-ship                         1866.2                1928.4   \n",
       "product-software                     2297.7                2532.3   \n",
       "product-train                        1515.2                1323.4   \n",
       "product-weapon                       1815.5                2359.8   \n",
       "\n",
       "                      tt/train_per  tt/test_per  \n",
       "art-broadcastprogram     29.948501    30.286569  \n",
       "art-film                 26.365893    33.593242  \n",
       "art-music                28.759044    30.822642  \n",
       "art-other                28.740562    29.798959  \n",
       "art-painting             13.089916    20.230326  \n",
       "...                            ...          ...  \n",
       "product-other            35.562405    27.604989  \n",
       "product-ship             29.090356    28.418708  \n",
       "product-software         26.694104    24.835263  \n",
       "product-train            24.496711    27.085399  \n",
       "product-weapon           27.225719    22.349457  \n",
       "\n",
       "[66 rows x 10 columns]"
      ]
     },
     "execution_count": 6,
     "metadata": {},
     "output_type": "execute_result"
    }
   ],
   "source": [
    "data"
   ]
  },
  {
   "cell_type": "code",
   "execution_count": 8,
   "id": "8990306a",
   "metadata": {},
   "outputs": [],
   "source": [
    "cust_array = np.array([[i*100 for i in data['F1'].tolist()],\n",
    "                       data['s_sum'].tolist(),\n",
    "                       data['t_sum'].tolist(),\n",
    "                       data['tt_tokens_num'].tolist(),\n",
    "                       data['only_train_tokens_num'].tolist(),\n",
    "                       data['only_test_tokens_num'].tolist(),\n",
    "                       ], np.int32)"
   ]
  },
  {
   "cell_type": "code",
   "execution_count": 9,
   "id": "70cbcb56",
   "metadata": {},
   "outputs": [],
   "source": [
    "# cust_array"
   ]
  },
  {
   "cell_type": "code",
   "execution_count": 10,
   "id": "35f621d5",
   "metadata": {},
   "outputs": [],
   "source": [
    "cust_array = cust_array.T"
   ]
  },
  {
   "cell_type": "code",
   "execution_count": 11,
   "id": "d12020ca",
   "metadata": {},
   "outputs": [],
   "source": [
    "#エルボー法の実施\n",
    "wcss = []  # クラスタ内変動の合計（WCSS）を格納するリスト\n",
    "\n",
    "for i in range(1, 11):  # クラスタ数の候補を1から10まで試す\n",
    "    kmeans = KMeans(n_clusters=i, init='k-means++', max_iter=300, n_init=10, random_state=0)\n",
    "    kmeans.fit(cust_array)\n",
    "    wcss.append(kmeans.inertia_)  # WCSSをリストに追加"
   ]
  },
  {
   "cell_type": "code",
   "execution_count": 12,
   "id": "1c4c3f05",
   "metadata": {},
   "outputs": [
    {
     "data": {
      "image/png": "[encoded data removed]",
      "text/plain": [
       "<Figure size 432x288 with 1 Axes>"
      ]
     },
     "metadata": {
      "needs_background": "light"
     },
     "output_type": "display_data"
    }
   ],
   "source": [
    "plt.plot(range(1, 11), wcss)\n",
    "plt.title('Elbow Method')\n",
    "plt.xlabel('Number of clusters')\n",
    "plt.ylabel('WCSS')\n",
    "plt.show()"
   ]
  },
  {
   "cell_type": "code",
   "execution_count": 15,
   "id": "b4d14dcc",
   "metadata": {},
   "outputs": [
    {
     "name": "stdout",
     "output_type": "stream",
     "text": [
      "                        F1  Recall  Precision   s_sum    t_sum  tt_tokens_num  \\\n",
      "art-broadcastprogram  0.51    0.53       0.49   916.6  31730.7         1215.4   \n",
      "art-film              0.65    0.68       0.62  1487.3  52253.8         1551.0   \n",
      "art-music             0.70    0.70       0.71  1476.5  50707.5         1633.6   \n",
      "art-other             0.27    0.26       0.30   962.1  35777.2         1259.9   \n",
      "art-painting          0.06    0.06       0.08   118.9   4042.7          105.4   \n",
      "\n",
      "                      only_train_tokens_num  only_test_tokens_num  \\\n",
      "art-broadcastprogram                 2842.9                2797.6   \n",
      "art-film                             4331.6                3066.0   \n",
      "art-music                            4046.7                3666.4   \n",
      "art-other                            3123.8                2968.1   \n",
      "art-painting                          699.8                 415.6   \n",
      "\n",
      "                      tt/train_per  tt/test_per  Cluster  \n",
      "art-broadcastprogram     29.948501    30.286569        0  \n",
      "art-film                 26.365893    33.593242        0  \n",
      "art-music                28.759044    30.822642        0  \n",
      "art-other                28.740562    29.798959        0  \n",
      "art-painting             13.089916    20.230326        0  \n"
     ]
    }
   ],
   "source": [
    "# クラスタリングを実行\n",
    "kmeans = KMeans(n_clusters=3, init='k-means++', max_iter=300, n_init=10, random_state=0)\n",
    "clusters = kmeans.fit_predict(cust_array)\n",
    "\n",
    "# クラスタリング結果を表示\n",
    "data['Cluster'] = clusters\n",
    "print(data.head())"
   ]
  },
  {
   "cell_type": "code",
   "execution_count": 16,
   "id": "a1d1fa97",
   "metadata": {},
   "outputs": [
    {
     "name": "stdout",
     "output_type": "stream",
     "text": [
      "Silhouette Score: 0.7482241620460583\n"
     ]
    }
   ],
   "source": [
    "# シルエットスコアを計算\n",
    "silhouette_avg = silhouette_score(data, clusters)\n",
    "print(f\"Silhouette Score: {silhouette_avg}\")"
   ]
  },
  {
   "cell_type": "code",
   "execution_count": 21,
   "id": "072e9914",
   "metadata": {},
   "outputs": [],
   "source": [
    "data.to_csv('analysis/xlsx/extract_clusters.csv')"
   ]
  },
  {
   "cell_type": "code",
   "execution_count": null,
   "id": "da278faf",
   "metadata": {},
   "outputs": [],
   "source": []
  }
 ],
 "metadata": {
  "kernelspec": {
   "display_name": "Python 3",
   "language": "python",
   "name": "python3"
  },
  "language_info": {
   "codemirror_mode": {
    "name": "ipython",
    "version": 3
   },
   "file_extension": ".py",
   "mimetype": "text/x-python",
   "name": "python",
   "nbconvert_exporter": "python",
   "pygments_lexer": "ipython3",
   "version": "3.9.0"
  }
 },
 "nbformat": 4,
 "nbformat_minor": 5
}
