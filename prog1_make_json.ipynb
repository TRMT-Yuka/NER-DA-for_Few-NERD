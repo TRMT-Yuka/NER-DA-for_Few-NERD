{
 "cells": [
  {
   "cell_type": "code",
   "execution_count": null,
   "id": "0d6db445",
   "metadata": {},
   "outputs": [],
   "source": [
    "#{\"words\": [\"CHICAGO\", \"AT\", \"ATLANTA\"], \"ner\": [\"B-ORG\", \"O\", \"B-LOC\"]}"
   ]
  },
  {
   "cell_type": "code",
   "execution_count": 6,
   "id": "7629c0a7",
   "metadata": {},
   "outputs": [],
   "source": [
    "import json"
   ]
  },
  {
   "cell_type": "code",
   "execution_count": 15,
   "id": "1626c187",
   "metadata": {},
   "outputs": [],
   "source": [
    "filename = \"train\"\n",
    "filename = \"test\"\n",
    "filename = \"dev\""
   ]
  },
  {
   "cell_type": "code",
   "execution_count": 16,
   "id": "a61a1431",
   "metadata": {
    "scrolled": true
   },
   "outputs": [],
   "source": [
    "data = []\n",
    "with open(\"data/original/\"+filename+\".json\",\"r\") as f:\n",
    "    for line in f:\n",
    "        data.append(json.loads(line))\n",
    "\n",
    "coarse = []\n",
    "for d in data:\n",
    "    new_d = {}\n",
    "    new_d[\"tokens\"] = d[\"tokens\"]\n",
    "    new_d[\"tags\"] = d[\"coarse_tags\"]\n",
    "    coarse.append(new_d)\n",
    "    \n",
    "fine = []\n",
    "for d in data:\n",
    "    new_d = {}\n",
    "    new_d[\"tokens\"] = d[\"tokens\"]\n",
    "    new_d[\"tags\"] = d[\"fine_tags\"]\n",
    "    fine.append(new_d)"
   ]
  },
  {
   "cell_type": "code",
   "execution_count": 17,
   "id": "90c275f2",
   "metadata": {},
   "outputs": [],
   "source": [
    "with open(\"data/coarse/\"+filename+\".json\",\"w\") as f:\n",
    "    for d in coarse:\n",
    "        f.write(str(d))\n",
    "        f.write(\"\\n\")"
   ]
  },
  {
   "cell_type": "code",
   "execution_count": 18,
   "id": "35a02665",
   "metadata": {},
   "outputs": [],
   "source": [
    "with open(\"data/fine/\"+filename+\".json\",\"w\") as f:\n",
    "    for d in fine:\n",
    "        f.write(str(d))\n",
    "        f.write(\"\\n\")"
   ]
  },
  {
   "cell_type": "code",
   "execution_count": null,
   "id": "47c9c900",
   "metadata": {},
   "outputs": [],
   "source": []
  }
 ],
 "metadata": {
  "kernelspec": {
   "display_name": "Python 3 (ipykernel)",
   "language": "python",
   "name": "python3"
  },
  "language_info": {
   "codemirror_mode": {
    "name": "ipython",
    "version": 3
   },
   "file_extension": ".py",
   "mimetype": "text/x-python",
   "name": "python",
   "nbconvert_exporter": "python",
   "pygments_lexer": "ipython3",
   "version": "3.8.10"
  }
 },
 "nbformat": 4,
 "nbformat_minor": 5
}
