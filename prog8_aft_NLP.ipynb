{
 "cells": [
  {
   "cell_type": "markdown",
   "id": "cd05b7b0",
   "metadata": {},
   "source": [
    "# 訓練データのラベルの比率調査および再実験  \n",
    "\n",
    "・NLP2024 参加後    \n",
    "・24/3/19"
   ]
  },
  {
   "cell_type": "code",
   "execution_count": 3,
   "id": "2e860e3e",
   "metadata": {},
   "outputs": [],
   "source": [
    "import json"
   ]
  },
  {
   "cell_type": "code",
   "execution_count": 4,
   "id": "f79bf716",
   "metadata": {},
   "outputs": [],
   "source": [
    "train = []\n",
    "with open(\"data/f/train.json\",\"r\") as f:\n",
    "    for line in f:\n",
    "        train.append(json.loads(line))"
   ]
  },
  {
   "cell_type": "code",
   "execution_count": 5,
   "id": "bc069660",
   "metadata": {},
   "outputs": [],
   "source": [
    "# ラベルの組み合わせごとに行をカウントする関数\n",
    "def count_label_combinations(json_data):\n",
    "    label_combinations_count = {}\n",
    "\n",
    "    for entry in json_data:\n",
    "        # ラベルのセット（重複を除く）を取得\n",
    "        labels_set = frozenset(entry[\"tags\"])\n",
    "\n",
    "        # 辞書にセットが存在するか確認し、カウントを更新\n",
    "        if labels_set in label_combinations_count:\n",
    "            label_combinations_count[labels_set] += 1\n",
    "        else:\n",
    "            label_combinations_count[labels_set] = 1\n",
    "\n",
    "    return label_combinations_count"
   ]
  },
  {
   "cell_type": "code",
   "execution_count": 6,
   "id": "34730d52",
   "metadata": {},
   "outputs": [],
   "source": [
    "# ラベルの組み合わせのカウントを取得\n",
    "label_combinations_count = count_label_combinations(train)"
   ]
  },
  {
   "cell_type": "code",
   "execution_count": 1,
   "id": "b7ee4266",
   "metadata": {},
   "outputs": [],
   "source": [
    "# label_combinations_count"
   ]
  },
  {
   "cell_type": "code",
   "execution_count": 60,
   "id": "4a7fac13",
   "metadata": {},
   "outputs": [
    {
     "data": {
      "text/plain": [
       "131766"
      ]
     },
     "execution_count": 60,
     "metadata": {},
     "output_type": "execute_result"
    }
   ],
   "source": [
    "sum(label_combinations_count.values())"
   ]
  },
  {
   "cell_type": "code",
   "execution_count": 61,
   "id": "b2be8b45",
   "metadata": {},
   "outputs": [
    {
     "data": {
      "text/plain": [
       "13.462501707572516"
      ]
     },
     "execution_count": 61,
     "metadata": {},
     "output_type": "execute_result"
    }
   ],
   "source": [
    "(17739/131766)*100"
   ]
  },
  {
   "cell_type": "code",
   "execution_count": 2,
   "id": "9e1eabdc",
   "metadata": {},
   "outputs": [
    {
     "data": {
      "text/plain": [
       "86.53749829242749"
      ]
     },
     "execution_count": 2,
     "metadata": {},
     "output_type": "execute_result"
    }
   ],
   "source": [
    "((131766-17739)/131766)*100"
   ]
  },
  {
   "cell_type": "code",
   "execution_count": 55,
   "id": "cd744f80",
   "metadata": {},
   "outputs": [],
   "source": [
    "y = []\n",
    "x = []"
   ]
  },
  {
   "cell_type": "code",
   "execution_count": 56,
   "id": "4cb9ed8c",
   "metadata": {},
   "outputs": [],
   "source": [
    "for i in range(1,12):\n",
    "    y.append(sum(value for key, value in label_combinations_count.items() if len(key) == i))\n",
    "    x.append(i)"
   ]
  },
  {
   "cell_type": "raw",
   "id": "299a4894",
   "metadata": {},
   "source": [
    "Number of Label Types\tNumber of Sentence\n",
    "1\t17739\n",
    "2\t47277\n",
    "3\t40693\n",
    "4\t18902\n",
    "5\t5675\n",
    "6\t1171\n",
    "7\t250\n",
    "8\t43\n",
    "9\t13\n",
    "10\t1\n",
    "11\t2"
   ]
  },
  {
   "cell_type": "markdown",
   "id": "8b383fb8",
   "metadata": {},
   "source": [
    "# 24/3/25 NLPで見た仮説を実証していく"
   ]
  },
  {
   "cell_type": "code",
   "execution_count": 2,
   "id": "2c958b74",
   "metadata": {},
   "outputs": [],
   "source": [
    "import random\n",
    "import json\n",
    "import DA4ner"
   ]
  },
  {
   "cell_type": "markdown",
   "id": "b12eda82",
   "metadata": {},
   "source": [
    "・データを作成する場合は以下のコードを使うが今回は既存のものに追加する形で実装"
   ]
  },
  {
   "cell_type": "code",
   "execution_count": 59,
   "id": "8568ef3f",
   "metadata": {},
   "outputs": [],
   "source": [
    "#trainデータの読み込み・整形\n",
    "train = []#131719\n",
    "with open(\"data/TreePos_BI/train.json\",\"r\") as f:\n",
    "    for line in f:\n",
    "        train.append(json.loads(line))\n",
    "for d in train:\n",
    "    d[\"tree_pos\"] = [d[\"tags\"][i].split(\"_\")[0] for i in range(len(d[\"tags\"]))]\n",
    "    d[\"ner_pos\"] = [d[\"tags\"][i].split(\"_\")[1] for i in range(len(d[\"tags\"]))]\n",
    "\n",
    "    \n",
    "labels = [\"art-broadcastprogram\",\"art-film\",\"art-music\",\"art-other\",\"art-painting\",\"art-writtenart\",\"building-airport\",\"building-hospital\",\"building-hotel\",\"building-library\",\"building-other\",\"building-restaurant\",\"building-sportsfacility\",\"building-theater\",\"event-attack/battle/war/militaryconflict\",\"event-disaster\",\"event-election\",\"event-other\",\"event-protest\",\"event-sportsevent\",\"location-GPE\",\"location-bodiesofwater\",\"location-island\",\"location-mountain\",\"location-other\",\"location-park\",\"location-road/railway/highway/transit\",\"organization-company\",\"organization-education\",\"organization-government/governmentagency\",\"organization-media/newspaper\",\"organization-other\",\"organization-politicalparty\",\"organization-religion\",\"organization-showorganization\",\"organization-sportsleague\",\"organization-sportsteam\",\"other-astronomything\",\"other-award\",\"other-biologything\",\"other-chemicalthing\",\"other-currency\",\"other-disease\",\"other-educationaldegree\",\"other-god\",\"other-language\",\"other-law\",\"other-livingthing\",\"other-medical\",\"person-actor\",\"person-artist/author\",\"person-athlete\",\"person-director\",\"person-other\",\"person-politician\",\"person-scholar\",\"person-soldier\",\"product-airplane\",\"product-car\",\"product-food\",\"product-game\",\"product-other\",\"product-ship\",\"product-software\",\"product-train\",\"product-weapon\",\"O\"]\n",
    "# 66種のラベルごとに対応するリスト ラベルを含むtrainの各要素を含むリストが入っている値\n",
    "labeled_data = []\n",
    "for label in labels:\n",
    "    new_l = []\n",
    "    for d in train:\n",
    "        if label == \"O\":\n",
    "            if {\"O\"} == set(d[\"ner_pos\"]):\n",
    "                new_l.append(d)\n",
    "        else:\n",
    "            if label in set(d[\"ner_pos\"]):\n",
    "                new_l.append(d)\n",
    "    labeled_data.append(new_l)#listに保存"
   ]
  },
  {
   "cell_type": "code",
   "execution_count": 84,
   "id": "0f52b007",
   "metadata": {},
   "outputs": [
    {
     "data": {
      "text/plain": [
       "17736"
      ]
     },
     "execution_count": 84,
     "metadata": {},
     "output_type": "execute_result"
    }
   ],
   "source": [
    "len(labeled_data[-1])"
   ]
  },
  {
   "cell_type": "code",
   "execution_count": null,
   "id": "9729d8b2",
   "metadata": {},
   "outputs": [],
   "source": [
    "# parm_exchange = 0.7\n",
    "# parm_generate_per_s = 50#オリジナルデータの何倍データを作るか（生成後データにはオリジナルデータも含む）"
   ]
  },
  {
   "cell_type": "code",
   "execution_count": null,
   "id": "2cb01827",
   "metadata": {},
   "outputs": [],
   "source": [
    "# # n = 3 # <= n/166 の部分．DEIMではn=3とした\n",
    "# n = 3\n",
    "# for ver in range(0,10):\n",
    "#     labeled_data_elected = []#21548\n",
    "#     for i in range(len(labeled_data)):\n",
    "#         choice_num = int(len(labeled_data[i])*n/166)\n",
    "#         print(choice_num,\"/\",len(labeled_data[i]),end = \"    \")\n",
    "#         choice_list = random.sample(labeled_data[i],choice_num)\n",
    "#         labeled_data_elected.extend(choice_list)\n",
    "#     print(len(labeled_data_elected))\n",
    "\n",
    "#     #f_smallを作成\n",
    "#     with open(\"data/f_small/1to50_\"+str(n)+\"-167th_\"+str(ver)+\".json\", 'w') as f:\n",
    "#         for d in labeled_data_elected:\n",
    "#             new_d = {}\n",
    "#             new_d[\"tokens\"] = d[\"tokens\"]\n",
    "#             new_d[\"tags\"] = d[\"ner_pos\"]\n",
    "#             f.write(json.dumps(new_d))\n",
    "#             f.write(\"\\n\")\n",
    "\n",
    "#     for BI_O_ALL in [\"BI\",\"O\",\"ALL\"]:\n",
    "#         print()\n",
    "#         print(\"【★】ver:\",ver,\"-\",BI_O_ALL)\n",
    "#         DA.Simple_TreePos(\"1to50_\"+str(n)+\"-167th\",labeled_data_elected,BI_O_ALL,ver,parm_exchange,parm_generate_per_s)"
   ]
  },
  {
   "cell_type": "code",
   "execution_count": 77,
   "id": "f43c810e",
   "metadata": {},
   "outputs": [],
   "source": [
    "train= []\n",
    "with open(\"data/f/train.json\",\"r\") as f:\n",
    "    for line in f:\n",
    "        train.append(json.loads(line))"
   ]
  },
  {
   "cell_type": "code",
   "execution_count": 88,
   "id": "f7fe65af",
   "metadata": {},
   "outputs": [],
   "source": [
    "f_small_1= []\n",
    "with open(\"data/TreePos_O_small/3-167th_0.json\",\"r\") as f:\n",
    "    for line in f:\n",
    "        f_small_1.append(json.loads(line))"
   ]
  },
  {
   "cell_type": "code",
   "execution_count": 78,
   "id": "11839b46",
   "metadata": {},
   "outputs": [],
   "source": [
    "O_only_t=[]\n",
    "for d in train:\n",
    "    if set(d[\"tags\"])=={\"O\"}:\n",
    "        O_only_t.append(d)"
   ]
  },
  {
   "cell_type": "code",
   "execution_count": 89,
   "id": "c7b8ed9f",
   "metadata": {},
   "outputs": [],
   "source": [
    "O_only=[]\n",
    "for d in f_small_1:\n",
    "    if set(d[\"tags\"])=={\"O\"}:\n",
    "        O_only.append(d)"
   ]
  },
  {
   "cell_type": "code",
   "execution_count": 72,
   "id": "e0f2e38b",
   "metadata": {},
   "outputs": [],
   "source": [
    "# O_only[0]"
   ]
  },
  {
   "cell_type": "code",
   "execution_count": 79,
   "id": "767b8f8c",
   "metadata": {},
   "outputs": [
    {
     "data": {
      "text/plain": [
       "17739"
      ]
     },
     "execution_count": 79,
     "metadata": {},
     "output_type": "execute_result"
    }
   ],
   "source": [
    "len(O_only_t)"
   ]
  },
  {
   "cell_type": "code",
   "execution_count": 74,
   "id": "7878dd6f",
   "metadata": {},
   "outputs": [],
   "source": [
    "# len(f_small_1)"
   ]
  },
  {
   "cell_type": "code",
   "execution_count": 82,
   "id": "b313bcf2",
   "metadata": {},
   "outputs": [
    {
     "data": {
      "text/plain": [
       "13.462501707572516"
      ]
     },
     "execution_count": 82,
     "metadata": {},
     "output_type": "execute_result"
    }
   ],
   "source": [
    "(len(O_only_t)/len(train))*100"
   ]
  },
  {
   "cell_type": "code",
   "execution_count": 83,
   "id": "a9c80335",
   "metadata": {},
   "outputs": [],
   "source": [
    "p = (len(O_only_t)/len(train))*100"
   ]
  },
  {
   "cell_type": "code",
   "execution_count": 85,
   "id": "801b1f6f",
   "metadata": {},
   "outputs": [
    {
     "data": {
      "text/plain": [
       "318.61077844311376"
      ]
     },
     "execution_count": 85,
     "metadata": {},
     "output_type": "execute_result"
    }
   ],
   "source": [
    "17736*3/167"
   ]
  },
  {
   "cell_type": "code",
   "execution_count": 90,
   "id": "4c5e7c13",
   "metadata": {},
   "outputs": [
    {
     "data": {
      "text/plain": [
       "12.79322276577974"
      ]
     },
     "execution_count": 90,
     "metadata": {},
     "output_type": "execute_result"
    }
   ],
   "source": [
    "(len(O_only)/len(f_small_1))*100"
   ]
  },
  {
   "cell_type": "code",
   "execution_count": 81,
   "id": "b4375115",
   "metadata": {},
   "outputs": [
    {
     "data": {
      "text/plain": [
       "7.63540921021236"
      ]
     },
     "execution_count": 81,
     "metadata": {},
     "output_type": "execute_result"
    }
   ],
   "source": [
    "(len(O_only)/len(f_small_1))*100"
   ]
  },
  {
   "cell_type": "code",
   "execution_count": 31,
   "id": "ae5c1059",
   "metadata": {},
   "outputs": [
    {
     "data": {
      "text/plain": [
       "106"
      ]
     },
     "execution_count": 31,
     "metadata": {},
     "output_type": "execute_result"
    }
   ],
   "source": [
    "106 "
   ]
  },
  {
   "cell_type": "code",
   "execution_count": 87,
   "id": "1cf93891",
   "metadata": {},
   "outputs": [
    {
     "data": {
      "text/plain": [
       "7.587687902648533"
      ]
     },
     "execution_count": 87,
     "metadata": {},
     "output_type": "execute_result"
    }
   ],
   "source": [
    "(318/len(f_small_1))*100"
   ]
  },
  {
   "cell_type": "markdown",
   "id": "80a88ff2",
   "metadata": {},
   "source": [
    "# 固有表現を含まない文を含めたデータ拡張"
   ]
  },
  {
   "cell_type": "code",
   "execution_count": 1,
   "id": "8fa0145a",
   "metadata": {},
   "outputs": [
    {
     "name": "stderr",
     "output_type": "stream",
     "text": [
      "/home/z44712r/env39/lib/python3.9/site-packages/tqdm/auto.py:22: TqdmWarning: IProgress not found. Please update jupyter and ipywidgets. See https://ipywidgets.readthedocs.io/en/stable/user_install.html\n",
      "  from .autonotebook import tqdm as notebook_tqdm\n"
     ]
    }
   ],
   "source": [
    "import torch\n",
    "device = torch.device(\"cuda:1\")"
   ]
  },
  {
   "cell_type": "code",
   "execution_count": null,
   "id": "64642182",
   "metadata": {},
   "outputs": [],
   "source": []
  }
 ],
 "metadata": {
  "kernelspec": {
   "display_name": "Python 3",
   "language": "python",
   "name": "python3"
  },
  "language_info": {
   "codemirror_mode": {
    "name": "ipython",
    "version": 3
   },
   "file_extension": ".py",
   "mimetype": "text/x-python",
   "name": "python",
   "nbconvert_exporter": "python",
   "pygments_lexer": "ipython3",
   "version": "3.9.0"
  }
 },
 "nbformat": 4,
 "nbformat_minor": 5
}
